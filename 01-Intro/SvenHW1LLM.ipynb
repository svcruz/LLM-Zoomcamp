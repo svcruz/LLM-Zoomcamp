{
 "cells": [
  {
   "cell_type": "code",
   "execution_count": 2,
   "id": "df3d0016-e37a-4c66-82f7-fc4a66e5c220",
   "metadata": {},
   "outputs": [],
   "source": [
    "import openai\n"
   ]
  },
  {
   "cell_type": "code",
   "execution_count": 16,
   "id": "cbce81ae-3bef-4c63-99b3-299c4b252f3d",
   "metadata": {},
   "outputs": [],
   "source": [
    "from openai import OpenAI"
   ]
  },
  {
   "cell_type": "code",
   "execution_count": 9,
   "id": "f24b55e8-d190-4f44-ace3-28383403172a",
   "metadata": {},
   "outputs": [],
   "source": [
    "client = OpenAI()"
   ]
  },
  {
   "cell_type": "code",
   "execution_count": 5,
   "id": "63d23432-4c1c-47d6-94fb-7a875b0d3dc1",
   "metadata": {},
   "outputs": [],
   "source": [
    "import os"
   ]
  },
  {
   "cell_type": "code",
   "execution_count": 18,
   "id": "d335dbc4-4997-4807-9d4f-e16b1b8fdc2e",
   "metadata": {},
   "outputs": [],
   "source": [
    "response = client.chat.completions.create(\n",
    "    model = 'gpt-4o',\n",
    "    messages=[{\"role\": \"user\", \"content\": \"is it too late to join the course?\"}]\n",
    ")"
   ]
  },
  {
   "cell_type": "code",
   "execution_count": 19,
   "id": "603a8481-ebd4-4c66-8a17-1c473242833c",
   "metadata": {},
   "outputs": [
    {
     "data": {
      "text/plain": [
       "\"To determine whether it is too late to join a course, you'll need specific information about the course's enrollment period and start date. Here are a few steps you can take to find out:\\n\\n1. **Check the Course Dates:** Look for the course schedule and key dates, such as enrollment deadlines and the start date, usually available on the course's official website.\\n\\n2. **Contact the Institution:** Reach out to the course provider or institution offering the course. They can provide the most accurate and updated information regarding enrollment.\\n\\n3. **Look for Late Enrollment Options:** Some courses may allow late enrollments or have rolling admissions. Inquire if these options are available.\\n\\n4. **Online Platforms:** If the course is offered online, check the specific platform (like Coursera, edX, or Udemy) for details on availability.\\n\\n5. **Consider Catch-up Resources:** If the course has already started, see if there are resources available to help you catch up on any missed material.\\n\\nIf you provide more details about the course you are interested in, I could give more tailored advice.\""
      ]
     },
     "execution_count": 19,
     "metadata": {},
     "output_type": "execute_result"
    }
   ],
   "source": [
    "response.choices[0].message.content"
   ]
  }
 ],
 "metadata": {
  "kernelspec": {
   "display_name": "Python 3 (ipykernel)",
   "language": "python",
   "name": "python3"
  },
  "language_info": {
   "codemirror_mode": {
    "name": "ipython",
    "version": 3
   },
   "file_extension": ".py",
   "mimetype": "text/x-python",
   "name": "python",
   "nbconvert_exporter": "python",
   "pygments_lexer": "ipython3",
   "version": "3.12.1"
  }
 },
 "nbformat": 4,
 "nbformat_minor": 5
}
